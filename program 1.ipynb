{
 "cells": [
  {
   "cell_type": "code",
   "execution_count": 1,
   "metadata": {},
   "outputs": [
    {
     "name": "stdout",
     "output_type": "stream",
     "text": [
      "Enter the first number :8\n",
      "Enter the second number :4\n",
      "1.Addition\n",
      "2.Subtraction\n",
      "3.Multiplication\n",
      "4.Division\n",
      "5.Exiting\n",
      "Enter your choice :1\n",
      "The sum of digits are 12\n",
      "1.Addition\n",
      "2.Subtraction\n",
      "3.Multiplication\n",
      "4.Division\n",
      "5.Exiting\n",
      "Enter your choice :2\n",
      "The difference of digits are 4\n",
      "1.Addition\n",
      "2.Subtraction\n",
      "3.Multiplication\n",
      "4.Division\n",
      "5.Exiting\n",
      "Enter your choice :3\n",
      "The product of the digits are 32\n",
      "1.Addition\n",
      "2.Subtraction\n",
      "3.Multiplication\n",
      "4.Division\n",
      "5.Exiting\n",
      "Enter your choice :4\n",
      "The division of the digits are 2.0\n",
      "1.Addition\n",
      "2.Subtraction\n",
      "3.Multiplication\n",
      "4.Division\n",
      "5.Exiting\n",
      "Enter your choice :5\n",
      "Exiting\n"
     ]
    }
   ],
   "source": [
    "a=int(input(\"Enter the first number :\"))\n",
    "b=int(input(\"Enter the second number :\"))\n",
    "while(1):\n",
    "    print(\"1.Addition\")\n",
    "    print(\"2.Subtraction\")\n",
    "    print(\"3.Multiplication\")\n",
    "    print(\"4.Division\")\n",
    "    print(\"5.Exiting\")\n",
    "    ch=int(input(\"Enter your choice :\"))\n",
    "    if ch==1:\n",
    "        print(\"The sum of digits are\",a+b)\n",
    "    elif ch==2:\n",
    "        print(\"The difference of digits are\",a-b)\n",
    "    elif ch==3:\n",
    "        print(\"The product of the digits are\",a*b)\n",
    "    elif ch==4:\n",
    "        if b==0:\n",
    "            print(\"The division is not possible\")\n",
    "        else:\n",
    "            print(\"The division of the digits are\",a/b)\n",
    "    elif ch==5:\n",
    "        print(\"Exiting\")\n",
    "        break\n",
    "    else:\n",
    "        print(\"Enter a valid option\")"
   ]
  },
  {
   "cell_type": "markdown",
   "metadata": {},
   "source": []
  },
  {
   "cell_type": "code",
   "execution_count": null,
   "metadata": {
    "collapsed": true
   },
   "outputs": [],
   "source": []
  }
 ],
 "metadata": {
  "kernelspec": {
   "display_name": "Python 3",
   "language": "python",
   "name": "python3"
  },
  "language_info": {
   "codemirror_mode": {
    "name": "ipython",
    "version": 3
   },
   "file_extension": ".py",
   "mimetype": "text/x-python",
   "name": "python",
   "nbconvert_exporter": "python",
   "pygments_lexer": "ipython3",
   "version": "3.6.3"
  }
 },
 "nbformat": 4,
 "nbformat_minor": 2
}
